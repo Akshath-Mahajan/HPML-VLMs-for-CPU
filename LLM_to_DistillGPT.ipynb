{
 "cells": [
  {
   "cell_type": "code",
   "execution_count": 1,
   "id": "673a355d-2b4a-4be3-90b8-8ba4f6c4bec2",
   "metadata": {},
   "outputs": [
    {
     "name": "stdout",
     "output_type": "stream",
     "text": [
      "Using device: cuda\n"
     ]
    },
    {
     "data": {
      "application/vnd.jupyter.widget-view+json": {
       "model_id": "c091ab11db2941eebabbd605abb9020a",
       "version_major": 2,
       "version_minor": 0
      },
      "text/plain": [
       "Loading checkpoint shards:   0%|          | 0/2 [00:00<?, ?it/s]"
      ]
     },
     "metadata": {},
     "output_type": "display_data"
    }
   ],
   "source": [
    "import torch\n",
    "import torch.nn as nn\n",
    "import torch.optim as optim\n",
    "from datasets import load_dataset\n",
    "from transformers import AutoModelForCausalLM, AutoModelForSeq2SeqLM, AutoTokenizer\n",
    "from torch.utils.data import DataLoader\n",
    "from torch.nn.utils.rnn import pad_sequence\n",
    "from tqdm import tqdm\n",
    "from torch.nn.functional import normalize\n",
    "import torch.nn.functional as F\n",
    "\n",
    "\n",
    "\n",
    "\n",
    "# Device setup\n",
    "device = torch.device(\"cuda\" if torch.cuda.is_available() else \"cpu\")\n",
    "print(f\"Using device: {device}\")\n",
    "\n",
    "# Teacher and student model names\n",
    "teacher_model_name = \"meta-llama/Llama-2-7b-hf\"\n",
    "student_model_name = \"distilbert/distilgpt2\"\n",
    "\n",
    "# Load teacher and student models\n",
    "teacher_model = AutoModelForCausalLM.from_pretrained(teacher_model_name).to(device)\n",
    "student_model = AutoModelForCausalLM.from_pretrained(student_model_name).to(device)"
   ]
  },
  {
   "cell_type": "code",
   "execution_count": 2,
   "id": "25b72dee-49f4-46fe-82a0-4a49dbe70e2b",
   "metadata": {},
   "outputs": [
    {
     "name": "stdout",
     "output_type": "stream",
     "text": [
      "Models loaded successfully!\n"
     ]
    }
   ],
   "source": [
    "class StudentWithLogitsProjection(nn.Module):\n",
    "    def __init__(self, student_model, teacher_vocab_size):\n",
    "        super().__init__()\n",
    "        self.student_model = student_model\n",
    "        self.projection = nn.Linear(student_model.config.vocab_size, teacher_vocab_size)\n",
    "\n",
    "    def forward(self, input_ids, **kwargs):\n",
    "        # Get student logits\n",
    "        outputs = self.student_model(input_ids, **kwargs)\n",
    "        logits = outputs.logits\n",
    "\n",
    "        # Project logits to match teacher's vocabulary size\n",
    "        projected_logits = self.projection(logits)\n",
    "        return {\"logits\": projected_logits}\n",
    "\n",
    "\n",
    "teacher_vocab_size = teacher_model.config.vocab_size\n",
    "student_model = StudentWithLogitsProjection(student_model, teacher_vocab_size).to(device)\n",
    "\n",
    "\n",
    "# Load tokenizers\n",
    "teacher_tokenizer = AutoTokenizer.from_pretrained(teacher_model_name)\n",
    "student_tokenizer = AutoTokenizer.from_pretrained(student_model_name)\n",
    "# Set padding tokens for tokenizers if not already defined\n",
    "if teacher_tokenizer.pad_token is None:\n",
    "    teacher_tokenizer.pad_token = teacher_tokenizer.eos_token\n",
    "if student_tokenizer.pad_token is None:\n",
    "    student_tokenizer.pad_token = student_tokenizer.eos_token\n",
    "\n",
    "print(\"Models loaded successfully!\")\n"
   ]
  },
  {
   "cell_type": "code",
   "execution_count": 3,
   "id": "818c7c1e-3be6-44b6-ba1c-81787aece90f",
   "metadata": {
    "editable": true,
    "slideshow": {
     "slide_type": ""
    },
    "tags": []
   },
   "outputs": [],
   "source": [
    "log_file_path = \"./llm_log.txt\"\n",
    "with open(log_file_path, \"a\") as log_file:\n",
    "    log_file.write(f\"============= NEW RUN =============\\n\")"
   ]
  },
  {
   "cell_type": "code",
   "execution_count": 4,
   "id": "ce08370f-6489-4a3d-996e-6e741fc585b5",
   "metadata": {
    "editable": true,
    "slideshow": {
     "slide_type": ""
    },
    "tags": []
   },
   "outputs": [
    {
     "name": "stdout",
     "output_type": "stream",
     "text": [
      "Teacher input shape: torch.Size([8, 128])\n",
      "Student input shape: torch.Size([8, 128])\n"
     ]
    },
    {
     "name": "stderr",
     "output_type": "stream",
     "text": [
      "/tmp/ipykernel_12701/4163097171.py:30: UserWarning: To copy construct from a tensor, it is recommended to use sourceTensor.clone().detach() or sourceTensor.clone().detach().requires_grad_(True), rather than torch.tensor(sourceTensor).\n",
      "  teacher_input_ids = [torch.tensor(example[\"teacher_input_ids\"]) for example in batch]\n",
      "/tmp/ipykernel_12701/4163097171.py:31: UserWarning: To copy construct from a tensor, it is recommended to use sourceTensor.clone().detach() or sourceTensor.clone().detach().requires_grad_(True), rather than torch.tensor(sourceTensor).\n",
      "  student_input_ids = [torch.tensor(example[\"student_input_ids\"]) for example in batch]\n"
     ]
    }
   ],
   "source": [
    "dataset = load_dataset(\"tiny_shakespeare\")\n",
    "\n",
    "def split_by_newline(example):\n",
    "    text = example[\"text\"][0]\n",
    "    lines = text.split(\"\\n\")\n",
    "    return {\"text\": lines}\n",
    "    \n",
    "# Apply splitting\n",
    "split_dataset = dataset.map(split_by_newline, batched=True, remove_columns=[\"text\"])\n",
    "split_dataset = split_dataset.flatten()  # Flatten nested lists into individual examples\n",
    "\n",
    "# Tokenize the dataset\n",
    "def tokenize_function(examples):\n",
    "    teacher_tokens = teacher_tokenizer(\n",
    "        examples[\"text\"], truncation=True, padding=\"max_length\", max_length=128\n",
    "    )\n",
    "    student_tokens = student_tokenizer(\n",
    "        examples[\"text\"], truncation=True, padding=\"max_length\", max_length=128\n",
    "    )\n",
    "    return {\n",
    "        \"teacher_input_ids\": teacher_tokens[\"input_ids\"],\n",
    "        \"student_input_ids\": student_tokens[\"input_ids\"],\n",
    "    }\n",
    "\n",
    "tokenized_dataset = split_dataset.map(tokenize_function, batched=True, remove_columns=[\"text\"])\n",
    "tokenized_dataset.set_format(type=\"torch\")\n",
    "\n",
    "# Define a custom collate function for padding\n",
    "def custom_collate_fn(batch):\n",
    "    teacher_input_ids = [torch.tensor(example[\"teacher_input_ids\"]) for example in batch]\n",
    "    student_input_ids = [torch.tensor(example[\"student_input_ids\"]) for example in batch]\n",
    "\n",
    "    # Pad sequences\n",
    "    teacher_input_ids = pad_sequence(teacher_input_ids, batch_first=True, padding_value=teacher_tokenizer.pad_token_id)\n",
    "    student_input_ids = pad_sequence(student_input_ids, batch_first=True, padding_value=student_tokenizer.pad_token_id)\n",
    "\n",
    "    return {\n",
    "        \"teacher_input_ids\": teacher_input_ids,\n",
    "        \"student_input_ids\": student_input_ids,\n",
    "    }\n",
    "\n",
    "# Prepare DataLoader\n",
    "train_loader = DataLoader(\n",
    "    tokenized_dataset[\"train\"], \n",
    "    batch_size=8, \n",
    "    shuffle=True, \n",
    "    collate_fn=custom_collate_fn\n",
    ")\n",
    "\n",
    "# Verify the batch structure\n",
    "for batch in train_loader:\n",
    "    print(\"Teacher input shape:\", batch[\"teacher_input_ids\"].shape)  # Should be [batch_size, seq_len]\n",
    "    print(\"Student input shape:\", batch[\"student_input_ids\"].shape)  # Should be [batch_size, seq_len]\n",
    "    break\n"
   ]
  },
  {
   "cell_type": "code",
   "execution_count": 5,
   "id": "d521d577-8605-4c0b-81e6-72d13514053e",
   "metadata": {},
   "outputs": [],
   "source": [
    "optimizer = optim.Adam(student_model.parameters(), lr=1e-4)"
   ]
  },
  {
   "cell_type": "code",
   "execution_count": 6,
   "id": "e476d923-aaf9-4c93-8b6c-39e36872a1bd",
   "metadata": {},
   "outputs": [],
   "source": [
    "def train_one_epoch(teacher, student, dataloader, optimizer, device, temperature=1.0):\n",
    "    \"\"\"\n",
    "    Train the student model using KL Divergence on logits with a progress bar.\n",
    "\n",
    "    Args:\n",
    "        teacher (nn.Module): The teacher model.\n",
    "        student (nn.Module): The student model with logits projection.\n",
    "        dataloader (DataLoader): Dataloader for training.\n",
    "        optimizer (torch.optim.Optimizer): Optimizer for student model.\n",
    "        device (torch.device): Device to perform computation on.\n",
    "        temperature (float): Temperature for distillation.\n",
    "\n",
    "    Returns:\n",
    "        float: Average training loss for the epoch.\n",
    "    \"\"\"\n",
    "    teacher.eval()  # Teacher is frozen\n",
    "    student.train()\n",
    "    total_loss = 0\n",
    "\n",
    "    # Add tqdm for progress tracking\n",
    "    for batch in tqdm(dataloader, desc=\"Training Epoch\", leave=False):\n",
    "        optimizer.zero_grad()\n",
    "\n",
    "        # Move data to device\n",
    "        student_input_ids = batch[\"student_input_ids\"].to(device)\n",
    "        teacher_input_ids = batch[\"teacher_input_ids\"].to(device)\n",
    "\n",
    "        # Get logits from teacher and student\n",
    "        with torch.no_grad():\n",
    "            teacher_logits = teacher(teacher_input_ids).logits / temperature  # Scaled teacher logits\n",
    "        student_logits = student(student_input_ids)[\"logits\"] / temperature  # Scaled student logits\n",
    "\n",
    "        # Compute KL Divergence Loss\n",
    "        loss = F.kl_div(\n",
    "            F.log_softmax(student_logits, dim=-1),\n",
    "            F.softmax(teacher_logits, dim=-1),\n",
    "            reduction=\"batchmean\"\n",
    "        )\n",
    "\n",
    "        # Backpropagation\n",
    "        loss.backward()\n",
    "        optimizer.step()\n",
    "\n",
    "        total_loss += loss.item()\n",
    "\n",
    "    return total_loss / len(dataloader)\n"
   ]
  },
  {
   "cell_type": "code",
   "execution_count": 14,
   "id": "f13d6fe1-d5bb-43f5-94f7-5e94805aad93",
   "metadata": {
    "editable": true,
    "slideshow": {
     "slide_type": ""
    },
    "tags": []
   },
   "outputs": [],
   "source": [
    "def compute_cosine_similarity_logits(student, teacher, dataloader, device, data_fraction=1.0):\n",
    "    student.eval()\n",
    "    teacher.eval()\n",
    "    total_similarity = 0\n",
    "    count = 0\n",
    "\n",
    "    # Limit the number of batches based on data_fraction\n",
    "    total_batches = int(len(dataloader) * data_fraction)\n",
    "    student = student.to(device)\n",
    "    teacher = teacher.to(device)\n",
    "\n",
    "    with torch.no_grad():\n",
    "        for i, batch in enumerate(tqdm(dataloader, total=total_batches, desc=\"Computing Cosine Similarity (Logits)\")):\n",
    "            if i >= total_batches:\n",
    "                break\n",
    "\n",
    "            # Move data to device\n",
    "            student_input_ids = batch[\"student_input_ids\"].to(device)\n",
    "            teacher_input_ids = batch[\"teacher_input_ids\"].to(device)\n",
    "\n",
    "            # Get logits from teacher and student\n",
    "            teacher_logits = teacher(teacher_input_ids).logits\n",
    "            student_logits = student(student_input_ids)[\"logits\"]\n",
    "\n",
    "            # Normalize and compute cosine similarity\n",
    "            teacher_norm = normalize(teacher_logits, p=2, dim=-1)\n",
    "            student_norm = normalize(student_logits, p=2, dim=-1)\n",
    "            similarity = (teacher_norm * student_norm).sum(dim=-1).mean().item()\n",
    "            total_similarity += similarity\n",
    "            count += 1\n",
    "\n",
    "    avg_similarity = total_similarity / count\n",
    "    return avg_similarity\n"
   ]
  },
  {
   "cell_type": "code",
   "execution_count": 15,
   "id": "e4ca9607-deb2-4a08-a9d4-fb019c5d650d",
   "metadata": {},
   "outputs": [
    {
     "name": "stderr",
     "output_type": "stream",
     "text": [
      "Computing Cosine Similarity (Logits):   0%|          | 0/444 [00:00<?, ?it/s]/tmp/ipykernel_12701/4163097171.py:30: UserWarning: To copy construct from a tensor, it is recommended to use sourceTensor.clone().detach() or sourceTensor.clone().detach().requires_grad_(True), rather than torch.tensor(sourceTensor).\n",
      "  teacher_input_ids = [torch.tensor(example[\"teacher_input_ids\"]) for example in batch]\n",
      "/tmp/ipykernel_12701/4163097171.py:31: UserWarning: To copy construct from a tensor, it is recommended to use sourceTensor.clone().detach() or sourceTensor.clone().detach().requires_grad_(True), rather than torch.tensor(sourceTensor).\n",
      "  student_input_ids = [torch.tensor(example[\"student_input_ids\"]) for example in batch]\n",
      "Computing Cosine Similarity (Logits): 100%|██████████| 444/444 [07:19<00:00,  1.01it/s]\n"
     ]
    }
   ],
   "source": [
    "# Evaluate the student model\n",
    "avg_cosine_similarity = compute_cosine_similarity_logits(\n",
    "    student_model, teacher_model, train_loader, device, data_fraction=0.1\n",
    ")\n",
    "\n",
    "with open(log_file_path, \"a\") as log_file:\n",
    "    log_file.write(f\"Average Cosine Similarity Before Training: {avg_cosine_similarity:.4f}\\n\")\n"
   ]
  },
  {
   "cell_type": "code",
   "execution_count": 16,
   "id": "9c997b83-4458-4490-8e24-25adcc1a6fcd",
   "metadata": {},
   "outputs": [],
   "source": [
    "import time\n",
    "import torch\n",
    "from tqdm import tqdm  # Import tqdm for progress bars\n",
    "\n",
    "def benchmark_model(model, tokenizer, device, input_length=128, runs=100):\n",
    "    model = model.to(device)\n",
    "    model.eval()\n",
    "\n",
    "    # Generate random tokenized input\n",
    "    input_ids = torch.randint(\n",
    "        low=0, high=tokenizer.vocab_size, size=(1, input_length), device=device\n",
    "    )\n",
    "    attention_mask = torch.ones_like(input_ids, device=device)\n",
    "\n",
    "    # Warm-up runs\n",
    "    for _ in tqdm(range(10), desc=\"Warm-up runs\", leave=False):\n",
    "        _ = model(input_ids=input_ids, attention_mask=attention_mask)\n",
    "\n",
    "    # Benchmark\n",
    "    if device.type == 'cuda':\n",
    "        torch.cuda.synchronize()\n",
    "    start_time = time.time()\n",
    "\n",
    "    for _ in tqdm(range(runs), desc=\"Benchmarking\", leave=False):\n",
    "        _ = model(input_ids=input_ids, attention_mask=attention_mask)\n",
    "\n",
    "    if device.type == 'cuda':\n",
    "        torch.cuda.synchronize()\n",
    "    elapsed_time = (time.time() - start_time) / runs\n",
    "    return elapsed_time * 1000  # Convert to milliseconds"
   ]
  },
  {
   "cell_type": "code",
   "execution_count": null,
   "id": "9b98a1e8-d879-406a-bb08-f76497839c94",
   "metadata": {},
   "outputs": [
    {
     "name": "stderr",
     "output_type": "stream",
     "text": [
      "Benchmarking:  45%|████▌     | 45/100 [01:20<01:38,  1.79s/it]"
     ]
    }
   ],
   "source": [
    "# Benchmark function\n",
    "def benchmark_with_logging(teacher_model, student_model, teacher_tokenizer, student_tokenizer, file_path=\"benchmark_log.txt\"):\n",
    "    device_cpu = torch.device(\"cpu\")\n",
    "    device_cuda = torch.device(\"cuda\") if torch.cuda.is_available() else None\n",
    "\n",
    "    # Log results to file\n",
    "    with open(file_path, \"a\") as log_file:\n",
    "        log_file.write(\"Benchmarking before training...\\n\")\n",
    "        \n",
    "        # CPU Benchmarking\n",
    "        llama_time_cpu = benchmark_model(teacher_model, teacher_tokenizer, device_cpu, 10)\n",
    "        gpt_time_cpu = benchmark_model(student_model, student_tokenizer, device_cpu, 10)\n",
    "        log_file.write(f\"LLaMA Inference Time (CPU): {llama_time_cpu:.2f} ms\\n\")\n",
    "        log_file.write(f\"DistilGPT2 Inference Time (CPU): {gpt_time_cpu:.2f} ms\\n\")\n",
    "\n",
    "        # CUDA Benchmarking\n",
    "        if device_cuda:\n",
    "            llama_time_cuda = benchmark_model(teacher_model, teacher_tokenizer, device_cuda)\n",
    "            gpt_time_cuda = benchmark_model(student_model, student_tokenizer, device_cuda)\n",
    "            log_file.write(f\"LLaMA Inference Time (CUDA): {llama_time_cuda:.2f} ms\\n\")\n",
    "            log_file.write(f\"DistilGPT2 Inference Time (CUDA): {gpt_time_cuda:.2f} ms\\n\")\n",
    "        else:\n",
    "            log_file.write(\"CUDA is not available.\\n\")\n",
    "\n",
    "benchmark_with_logging(teacher_model, student_model, teacher_tokenizer, student_tokenizer, log_file_path)"
   ]
  },
  {
   "cell_type": "code",
   "execution_count": null,
   "id": "b473f158-f4c4-483b-9105-273fa221c390",
   "metadata": {
    "editable": true,
    "slideshow": {
     "slide_type": ""
    },
    "tags": []
   },
   "outputs": [],
   "source": [
    "scheduler = optim.lr_scheduler.StepLR(optimizer, step_size=3, gamma=0.1)\n",
    "\n",
    "# Open a log file\n",
    "with open(log_file_path, \"a\") as log_file:\n",
    "    # Train the student model\n",
    "    num_epochs = 10\n",
    "    for epoch in range(num_epochs):\n",
    "        log_file.write(f\"Epoch {epoch+1}/{num_epochs}\\n\")\n",
    "        train_loss = train_one_epoch(teacher_model, student_model, train_loader, optimizer, device)\n",
    "        scheduler.step()\n",
    "        log_file.write(f\"Training Loss: {train_loss:.4f}\\n\")\n",
    "        avg_cosine_similarity = evaluate(student_model, teacher_model, train_loader, device)\n",
    "        log_file.write(f\"Average Cosine Similarity for Epoch {epoch+1}: {avg_cosine_similarity:.4f}\\n\")"
   ]
  },
  {
   "cell_type": "code",
   "execution_count": null,
   "id": "b20b0c2a-a4df-4d69-8d70-c14cb809d601",
   "metadata": {
    "editable": true,
    "slideshow": {
     "slide_type": ""
    },
    "tags": []
   },
   "outputs": [],
   "source": [
    "save_path = \"./distillgpt_student.pth\"\n",
    "torch.save(student_model.state_dict(), save_path)\n",
    "print(f\"DistillGPT student model saved to {save_path}\")"
   ]
  },
  {
   "cell_type": "code",
   "execution_count": null,
   "id": "16f75fee-7bee-44f7-bd1b-00881d9c21fe",
   "metadata": {
    "editable": true,
    "slideshow": {
     "slide_type": ""
    },
    "tags": []
   },
   "outputs": [],
   "source": []
  }
 ],
 "metadata": {
  "kernelspec": {
   "display_name": "Python 3 (ipykernel)",
   "language": "python",
   "name": "python3"
  },
  "language_info": {
   "codemirror_mode": {
    "name": "ipython",
    "version": 3
   },
   "file_extension": ".py",
   "mimetype": "text/x-python",
   "name": "python",
   "nbconvert_exporter": "python",
   "pygments_lexer": "ipython3",
   "version": "3.9.18"
  }
 },
 "nbformat": 4,
 "nbformat_minor": 5
}
